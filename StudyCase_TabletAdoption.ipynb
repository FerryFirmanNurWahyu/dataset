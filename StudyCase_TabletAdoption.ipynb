{
  "cells": [
    {
      "cell_type": "markdown",
      "source": [
        "**Nama   : Ferry Firman Nur Wahhyu** <br>\n",
      ],
      "metadata": {
        "id": "Cub1lBgh0gdr"
      }
    },
    {
      "cell_type": "markdown",
      "metadata": {
        "id": "v9BQGYWUZyF3"
      },
      "source": [
        "## Business Understanding\n",
        "\n",
        "Richard sebagai online retailer ingin mengklasifikasi customer yang akan beli cepat, beli nanti, atau kapan-kapan. Berdasarkan hal tersebut diharapkan dia dapat mengatur target pemasaran kepada customer yang tepat.\n",
        "\n",
        "Supervised Learning ----- Klasifikasi\n",
        "\n",
        "- Decision Tree\n",
        "- Random Forest\n",
        "- XGBoost Clasifier\n",
        "- Logistic Regresion\n",
        "- SVM\n",
        "\n",
        "Target Variabel: tabletAdoption\n",
        "\n",
        "class:\n",
        "1. Innovator\n",
        "2. Early Majority\n",
        "3. Early Adopter\n",
        "4. Late Majority"
      ]
    },
    {
      "cell_type": "markdown",
      "metadata": {
        "id": "YeINsNxGalYT"
      },
      "source": [
        "## Data Understanding"
      ]
    },
    {
      "cell_type": "code",
      "execution_count": null,
      "metadata": {
        "id": "kKiLFDxZapJ-"
      },
      "outputs": [],
      "source": [
        "# Library\n",
        "\n",
        "import pandas as pd\n",
        "import numpy as np\n",
        "import seaborn as sns\n",
        "import matplotlib.pyplot as plt"
      ]
    },
    {
      "cell_type": "code",
      "execution_count": null,
      "metadata": {
        "id": "XgjIktQSa0Dl",
        "colab": {
          "base_uri": "https://localhost:8080/"
        },
        "outputId": "3210fb05-8af1-4827-957d-5635fa264f94"
      },
      "outputs": [
        {
          "output_type": "stream",
          "name": "stdout",
          "text": [
            "Drive already mounted at /content/drive; to attempt to forcibly remount, call drive.mount(\"/content/drive\", force_remount=True).\n"
          ]
        }
      ],
      "source": [
        "# Load Data\n",
        "\n",
        "from google.colab import drive\n",
        "drive.mount('/content/drive')"
      ]
    },
    {
      "cell_type": "code",
      "execution_count": null,
      "metadata": {
        "id": "rwpUZz4ha6ot"
      },
      "outputs": [],
      "source": [
        "path = '/content/drive/MyDrive/DataSource/Chapter10DataSet_Training.csv'"
      ]
    },
    {
      "cell_type": "code",
      "execution_count": null,
      "metadata": {
        "id": "VHJ1Agrwb1n4"
      },
      "outputs": [],
      "source": [
        "load_tabletAdoption = pd.read_csv(path)"
      ]
    },
    {
      "cell_type": "code",
      "execution_count": null,
      "metadata": {
        "id": "ET2LNwZnb_QV",
        "colab": {
          "base_uri": "https://localhost:8080/",
          "height": 270
        },
        "outputId": "69941d91-80fa-433d-b791-2dd41d891f10"
      },
      "outputs": [
        {
          "output_type": "execute_result",
          "data": {
            "text/plain": [
              "   User_ID Gender  Age Marital_Status Website_Activity  \\\n",
              "0     9552      M   61              M           Seldom   \n",
              "1     6757      M   27              M          Regular   \n",
              "2     3599      F   29              M           Seldom   \n",
              "3     6811      M   49              M           Seldom   \n",
              "4     4104      M   29              S           Seldom   \n",
              "\n",
              "  Browsed_Electronics_12Mo Bought_Electronics_12Mo Bought_Digital_Media_18Mo  \\\n",
              "0                      Yes                     Yes                       Yes   \n",
              "1                      Yes                      No                       Yes   \n",
              "2                      Yes                     Yes                       Yes   \n",
              "3                      Yes                     Yes                       Yes   \n",
              "4                      Yes                     Yes                       Yes   \n",
              "\n",
              "  Bought_Digital_Books   Payment_Method Tablet_Adoption  \n",
              "0                   No    Bank Transfer   Late Majority  \n",
              "1                   No    Bank Transfer       Innovator  \n",
              "2                  Yes    Bank Transfer   Early Adopter  \n",
              "3                  Yes  Website Account   Early Adopter  \n",
              "4                   No  Website Account   Late Majority  "
            ],
            "text/html": [
              "\n",
              "  <div id=\"df-664cc6d9-9c14-4163-abb0-fb8b6893d26b\">\n",
              "    <div class=\"colab-df-container\">\n",
              "      <div>\n",
              "<style scoped>\n",
              "    .dataframe tbody tr th:only-of-type {\n",
              "        vertical-align: middle;\n",
              "    }\n",
              "\n",
              "    .dataframe tbody tr th {\n",
              "        vertical-align: top;\n",
              "    }\n",
              "\n",
              "    .dataframe thead th {\n",
              "        text-align: right;\n",
              "    }\n",
              "</style>\n",
              "<table border=\"1\" class=\"dataframe\">\n",
              "  <thead>\n",
              "    <tr style=\"text-align: right;\">\n",
              "      <th></th>\n",
              "      <th>User_ID</th>\n",
              "      <th>Gender</th>\n",
              "      <th>Age</th>\n",
              "      <th>Marital_Status</th>\n",
              "      <th>Website_Activity</th>\n",
              "      <th>Browsed_Electronics_12Mo</th>\n",
              "      <th>Bought_Electronics_12Mo</th>\n",
              "      <th>Bought_Digital_Media_18Mo</th>\n",
              "      <th>Bought_Digital_Books</th>\n",
              "      <th>Payment_Method</th>\n",
              "      <th>Tablet_Adoption</th>\n",
              "    </tr>\n",
              "  </thead>\n",
              "  <tbody>\n",
              "    <tr>\n",
              "      <th>0</th>\n",
              "      <td>9552</td>\n",
              "      <td>M</td>\n",
              "      <td>61</td>\n",
              "      <td>M</td>\n",
              "      <td>Seldom</td>\n",
              "      <td>Yes</td>\n",
              "      <td>Yes</td>\n",
              "      <td>Yes</td>\n",
              "      <td>No</td>\n",
              "      <td>Bank Transfer</td>\n",
              "      <td>Late Majority</td>\n",
              "    </tr>\n",
              "    <tr>\n",
              "      <th>1</th>\n",
              "      <td>6757</td>\n",
              "      <td>M</td>\n",
              "      <td>27</td>\n",
              "      <td>M</td>\n",
              "      <td>Regular</td>\n",
              "      <td>Yes</td>\n",
              "      <td>No</td>\n",
              "      <td>Yes</td>\n",
              "      <td>No</td>\n",
              "      <td>Bank Transfer</td>\n",
              "      <td>Innovator</td>\n",
              "    </tr>\n",
              "    <tr>\n",
              "      <th>2</th>\n",
              "      <td>3599</td>\n",
              "      <td>F</td>\n",
              "      <td>29</td>\n",
              "      <td>M</td>\n",
              "      <td>Seldom</td>\n",
              "      <td>Yes</td>\n",
              "      <td>Yes</td>\n",
              "      <td>Yes</td>\n",
              "      <td>Yes</td>\n",
              "      <td>Bank Transfer</td>\n",
              "      <td>Early Adopter</td>\n",
              "    </tr>\n",
              "    <tr>\n",
              "      <th>3</th>\n",
              "      <td>6811</td>\n",
              "      <td>M</td>\n",
              "      <td>49</td>\n",
              "      <td>M</td>\n",
              "      <td>Seldom</td>\n",
              "      <td>Yes</td>\n",
              "      <td>Yes</td>\n",
              "      <td>Yes</td>\n",
              "      <td>Yes</td>\n",
              "      <td>Website Account</td>\n",
              "      <td>Early Adopter</td>\n",
              "    </tr>\n",
              "    <tr>\n",
              "      <th>4</th>\n",
              "      <td>4104</td>\n",
              "      <td>M</td>\n",
              "      <td>29</td>\n",
              "      <td>S</td>\n",
              "      <td>Seldom</td>\n",
              "      <td>Yes</td>\n",
              "      <td>Yes</td>\n",
              "      <td>Yes</td>\n",
              "      <td>No</td>\n",
              "      <td>Website Account</td>\n",
              "      <td>Late Majority</td>\n",
              "    </tr>\n",
              "  </tbody>\n",
              "</table>\n",
              "</div>\n",
              "      <button class=\"colab-df-convert\" onclick=\"convertToInteractive('df-664cc6d9-9c14-4163-abb0-fb8b6893d26b')\"\n",
              "              title=\"Convert this dataframe to an interactive table.\"\n",
              "              style=\"display:none;\">\n",
              "        \n",
              "  <svg xmlns=\"http://www.w3.org/2000/svg\" height=\"24px\"viewBox=\"0 0 24 24\"\n",
              "       width=\"24px\">\n",
              "    <path d=\"M0 0h24v24H0V0z\" fill=\"none\"/>\n",
              "    <path d=\"M18.56 5.44l.94 2.06.94-2.06 2.06-.94-2.06-.94-.94-2.06-.94 2.06-2.06.94zm-11 1L8.5 8.5l.94-2.06 2.06-.94-2.06-.94L8.5 2.5l-.94 2.06-2.06.94zm10 10l.94 2.06.94-2.06 2.06-.94-2.06-.94-.94-2.06-.94 2.06-2.06.94z\"/><path d=\"M17.41 7.96l-1.37-1.37c-.4-.4-.92-.59-1.43-.59-.52 0-1.04.2-1.43.59L10.3 9.45l-7.72 7.72c-.78.78-.78 2.05 0 2.83L4 21.41c.39.39.9.59 1.41.59.51 0 1.02-.2 1.41-.59l7.78-7.78 2.81-2.81c.8-.78.8-2.07 0-2.86zM5.41 20L4 18.59l7.72-7.72 1.47 1.35L5.41 20z\"/>\n",
              "  </svg>\n",
              "      </button>\n",
              "      \n",
              "  <style>\n",
              "    .colab-df-container {\n",
              "      display:flex;\n",
              "      flex-wrap:wrap;\n",
              "      gap: 12px;\n",
              "    }\n",
              "\n",
              "    .colab-df-convert {\n",
              "      background-color: #E8F0FE;\n",
              "      border: none;\n",
              "      border-radius: 50%;\n",
              "      cursor: pointer;\n",
              "      display: none;\n",
              "      fill: #1967D2;\n",
              "      height: 32px;\n",
              "      padding: 0 0 0 0;\n",
              "      width: 32px;\n",
              "    }\n",
              "\n",
              "    .colab-df-convert:hover {\n",
              "      background-color: #E2EBFA;\n",
              "      box-shadow: 0px 1px 2px rgba(60, 64, 67, 0.3), 0px 1px 3px 1px rgba(60, 64, 67, 0.15);\n",
              "      fill: #174EA6;\n",
              "    }\n",
              "\n",
              "    [theme=dark] .colab-df-convert {\n",
              "      background-color: #3B4455;\n",
              "      fill: #D2E3FC;\n",
              "    }\n",
              "\n",
              "    [theme=dark] .colab-df-convert:hover {\n",
              "      background-color: #434B5C;\n",
              "      box-shadow: 0px 1px 3px 1px rgba(0, 0, 0, 0.15);\n",
              "      filter: drop-shadow(0px 1px 2px rgba(0, 0, 0, 0.3));\n",
              "      fill: #FFFFFF;\n",
              "    }\n",
              "  </style>\n",
              "\n",
              "      <script>\n",
              "        const buttonEl =\n",
              "          document.querySelector('#df-664cc6d9-9c14-4163-abb0-fb8b6893d26b button.colab-df-convert');\n",
              "        buttonEl.style.display =\n",
              "          google.colab.kernel.accessAllowed ? 'block' : 'none';\n",
              "\n",
              "        async function convertToInteractive(key) {\n",
              "          const element = document.querySelector('#df-664cc6d9-9c14-4163-abb0-fb8b6893d26b');\n",
              "          const dataTable =\n",
              "            await google.colab.kernel.invokeFunction('convertToInteractive',\n",
              "                                                     [key], {});\n",
              "          if (!dataTable) return;\n",
              "\n",
              "          const docLinkHtml = 'Like what you see? Visit the ' +\n",
              "            '<a target=\"_blank\" href=https://colab.research.google.com/notebooks/data_table.ipynb>data table notebook</a>'\n",
              "            + ' to learn more about interactive tables.';\n",
              "          element.innerHTML = '';\n",
              "          dataTable['output_type'] = 'display_data';\n",
              "          await google.colab.output.renderOutput(dataTable, element);\n",
              "          const docLink = document.createElement('div');\n",
              "          docLink.innerHTML = docLinkHtml;\n",
              "          element.appendChild(docLink);\n",
              "        }\n",
              "      </script>\n",
              "    </div>\n",
              "  </div>\n",
              "  "
            ]
          },
          "metadata": {},
          "execution_count": 43
        }
      ],
      "source": [
        "df = pd.DataFrame(load_tabletAdoption)\n",
        "df.head()"
      ]
    },
    {
      "cell_type": "code",
      "execution_count": null,
      "metadata": {
        "id": "kttmjNFncIgo",
        "colab": {
          "base_uri": "https://localhost:8080/"
        },
        "outputId": "1bf6e5c3-43c0-490e-b780-fe1eb2ad42e1"
      },
      "outputs": [
        {
          "output_type": "stream",
          "name": "stdout",
          "text": [
            "<class 'pandas.core.frame.DataFrame'>\n",
            "RangeIndex: 661 entries, 0 to 660\n",
            "Data columns (total 11 columns):\n",
            " #   Column                     Non-Null Count  Dtype \n",
            "---  ------                     --------------  ----- \n",
            " 0   User_ID                    661 non-null    int64 \n",
            " 1   Gender                     661 non-null    object\n",
            " 2   Age                        661 non-null    int64 \n",
            " 3   Marital_Status             661 non-null    object\n",
            " 4   Website_Activity           661 non-null    object\n",
            " 5   Browsed_Electronics_12Mo   661 non-null    object\n",
            " 6   Bought_Electronics_12Mo    661 non-null    object\n",
            " 7   Bought_Digital_Media_18Mo  661 non-null    object\n",
            " 8   Bought_Digital_Books       661 non-null    object\n",
            " 9   Payment_Method             661 non-null    object\n",
            " 10  Tablet_Adoption            661 non-null    object\n",
            "dtypes: int64(2), object(9)\n",
            "memory usage: 56.9+ KB\n"
          ]
        }
      ],
      "source": [
        "df.info()"
      ]
    },
    {
      "cell_type": "markdown",
      "metadata": {
        "id": "ymg8NVRmd6pI"
      },
      "source": [
        "Data tersebut banyak yang bertipe String sehingga pada pengolahan data akan diperlukan Label Encoder"
      ]
    },
    {
      "cell_type": "code",
      "execution_count": null,
      "metadata": {
        "id": "FzeaZc5pdx5_",
        "colab": {
          "base_uri": "https://localhost:8080/"
        },
        "outputId": "b3698dcd-fd3d-4de5-c338-73638c0a50b4"
      },
      "outputs": [
        {
          "output_type": "execute_result",
          "data": {
            "text/plain": [
              "Early Adopter     205\n",
              "Early Majority    186\n",
              "Late Majority     172\n",
              "Innovator          98\n",
              "Name: Tablet_Adoption, dtype: int64"
            ]
          },
          "metadata": {},
          "execution_count": 45
        }
      ],
      "source": [
        "# Target Variabel\n",
        "df['Tablet_Adoption'].value_counts()"
      ]
    },
    {
      "cell_type": "code",
      "execution_count": null,
      "metadata": {
        "id": "4DSJtn7kiKpH",
        "colab": {
          "base_uri": "https://localhost:8080/"
        },
        "outputId": "2d24856a-7e8d-41c6-f256-45fb48fc2971"
      },
      "outputs": [
        {
          "output_type": "execute_result",
          "data": {
            "text/plain": [
              "User_ID                      0\n",
              "Gender                       0\n",
              "Age                          0\n",
              "Marital_Status               0\n",
              "Website_Activity             0\n",
              "Browsed_Electronics_12Mo     0\n",
              "Bought_Electronics_12Mo      0\n",
              "Bought_Digital_Media_18Mo    0\n",
              "Bought_Digital_Books         0\n",
              "Payment_Method               0\n",
              "Tablet_Adoption              0\n",
              "dtype: int64"
            ]
          },
          "metadata": {},
          "execution_count": 46
        }
      ],
      "source": [
        "df.isnull().sum()"
      ]
    },
    {
      "cell_type": "code",
      "execution_count": null,
      "metadata": {
        "id": "e9u5aXY_iRLW",
        "colab": {
          "base_uri": "https://localhost:8080/"
        },
        "outputId": "10bacf4f-2ed5-42b4-c561-f31386e99a91"
      },
      "outputs": [
        {
          "output_type": "execute_result",
          "data": {
            "text/plain": [
              "User_ID                      0\n",
              "Gender                       0\n",
              "Age                          0\n",
              "Marital_Status               0\n",
              "Website_Activity             0\n",
              "Browsed_Electronics_12Mo     0\n",
              "Bought_Electronics_12Mo      0\n",
              "Bought_Digital_Media_18Mo    0\n",
              "Bought_Digital_Books         0\n",
              "Payment_Method               0\n",
              "Tablet_Adoption              0\n",
              "dtype: int64"
            ]
          },
          "metadata": {},
          "execution_count": 47
        }
      ],
      "source": [
        "df.isna().sum()"
      ]
    },
    {
      "cell_type": "markdown",
      "metadata": {
        "id": "mjNDb2wRiWKs"
      },
      "source": [
        "## Data Preparation"
      ]
    },
    {
      "cell_type": "code",
      "execution_count": null,
      "metadata": {
        "id": "RVFVTUoZiUno"
      },
      "outputs": [],
      "source": [
        "# Label Encoder\n",
        "from sklearn.preprocessing import LabelEncoder\n",
        "\n",
        "# Membuat instance dari LabelEncoder\n",
        "label_encoder = LabelEncoder()"
      ]
    },
    {
      "cell_type": "code",
      "execution_count": null,
      "metadata": {
        "id": "uB1PMPs-ilvu",
        "colab": {
          "base_uri": "https://localhost:8080/",
          "height": 270
        },
        "outputId": "8983a987-c9af-4f8f-cc71-e1cf6e0266ce"
      },
      "outputs": [
        {
          "output_type": "execute_result",
          "data": {
            "text/plain": [
              "   User_ID  Gender  Age  Marital_Status  Website_Activity  \\\n",
              "0      599       1   45               0                 2   \n",
              "1      388       1   11               0                 1   \n",
              "2      178       0   13               0                 2   \n",
              "3      393       1   33               0                 2   \n",
              "4      207       1   13               1                 2   \n",
              "\n",
              "   Browsed_Electronics_12Mo  Bought_Electronics_12Mo  \\\n",
              "0                         1                        1   \n",
              "1                         1                        0   \n",
              "2                         1                        1   \n",
              "3                         1                        1   \n",
              "4                         1                        1   \n",
              "\n",
              "   Bought_Digital_Media_18Mo  Bought_Digital_Books  Payment_Method  \\\n",
              "0                          1                     0               0   \n",
              "1                          1                     0               0   \n",
              "2                          1                     1               0   \n",
              "3                          1                     1               3   \n",
              "4                          1                     0               3   \n",
              "\n",
              "   Tablet_Adoption  \n",
              "0                3  \n",
              "1                2  \n",
              "2                0  \n",
              "3                0  \n",
              "4                3  "
            ],
            "text/html": [
              "\n",
              "  <div id=\"df-dbc91a03-3d35-4ccf-90b8-6761f23caedc\">\n",
              "    <div class=\"colab-df-container\">\n",
              "      <div>\n",
              "<style scoped>\n",
              "    .dataframe tbody tr th:only-of-type {\n",
              "        vertical-align: middle;\n",
              "    }\n",
              "\n",
              "    .dataframe tbody tr th {\n",
              "        vertical-align: top;\n",
              "    }\n",
              "\n",
              "    .dataframe thead th {\n",
              "        text-align: right;\n",
              "    }\n",
              "</style>\n",
              "<table border=\"1\" class=\"dataframe\">\n",
              "  <thead>\n",
              "    <tr style=\"text-align: right;\">\n",
              "      <th></th>\n",
              "      <th>User_ID</th>\n",
              "      <th>Gender</th>\n",
              "      <th>Age</th>\n",
              "      <th>Marital_Status</th>\n",
              "      <th>Website_Activity</th>\n",
              "      <th>Browsed_Electronics_12Mo</th>\n",
              "      <th>Bought_Electronics_12Mo</th>\n",
              "      <th>Bought_Digital_Media_18Mo</th>\n",
              "      <th>Bought_Digital_Books</th>\n",
              "      <th>Payment_Method</th>\n",
              "      <th>Tablet_Adoption</th>\n",
              "    </tr>\n",
              "  </thead>\n",
              "  <tbody>\n",
              "    <tr>\n",
              "      <th>0</th>\n",
              "      <td>599</td>\n",
              "      <td>1</td>\n",
              "      <td>45</td>\n",
              "      <td>0</td>\n",
              "      <td>2</td>\n",
              "      <td>1</td>\n",
              "      <td>1</td>\n",
              "      <td>1</td>\n",
              "      <td>0</td>\n",
              "      <td>0</td>\n",
              "      <td>3</td>\n",
              "    </tr>\n",
              "    <tr>\n",
              "      <th>1</th>\n",
              "      <td>388</td>\n",
              "      <td>1</td>\n",
              "      <td>11</td>\n",
              "      <td>0</td>\n",
              "      <td>1</td>\n",
              "      <td>1</td>\n",
              "      <td>0</td>\n",
              "      <td>1</td>\n",
              "      <td>0</td>\n",
              "      <td>0</td>\n",
              "      <td>2</td>\n",
              "    </tr>\n",
              "    <tr>\n",
              "      <th>2</th>\n",
              "      <td>178</td>\n",
              "      <td>0</td>\n",
              "      <td>13</td>\n",
              "      <td>0</td>\n",
              "      <td>2</td>\n",
              "      <td>1</td>\n",
              "      <td>1</td>\n",
              "      <td>1</td>\n",
              "      <td>1</td>\n",
              "      <td>0</td>\n",
              "      <td>0</td>\n",
              "    </tr>\n",
              "    <tr>\n",
              "      <th>3</th>\n",
              "      <td>393</td>\n",
              "      <td>1</td>\n",
              "      <td>33</td>\n",
              "      <td>0</td>\n",
              "      <td>2</td>\n",
              "      <td>1</td>\n",
              "      <td>1</td>\n",
              "      <td>1</td>\n",
              "      <td>1</td>\n",
              "      <td>3</td>\n",
              "      <td>0</td>\n",
              "    </tr>\n",
              "    <tr>\n",
              "      <th>4</th>\n",
              "      <td>207</td>\n",
              "      <td>1</td>\n",
              "      <td>13</td>\n",
              "      <td>1</td>\n",
              "      <td>2</td>\n",
              "      <td>1</td>\n",
              "      <td>1</td>\n",
              "      <td>1</td>\n",
              "      <td>0</td>\n",
              "      <td>3</td>\n",
              "      <td>3</td>\n",
              "    </tr>\n",
              "  </tbody>\n",
              "</table>\n",
              "</div>\n",
              "      <button class=\"colab-df-convert\" onclick=\"convertToInteractive('df-dbc91a03-3d35-4ccf-90b8-6761f23caedc')\"\n",
              "              title=\"Convert this dataframe to an interactive table.\"\n",
              "              style=\"display:none;\">\n",
              "        \n",
              "  <svg xmlns=\"http://www.w3.org/2000/svg\" height=\"24px\"viewBox=\"0 0 24 24\"\n",
              "       width=\"24px\">\n",
              "    <path d=\"M0 0h24v24H0V0z\" fill=\"none\"/>\n",
              "    <path d=\"M18.56 5.44l.94 2.06.94-2.06 2.06-.94-2.06-.94-.94-2.06-.94 2.06-2.06.94zm-11 1L8.5 8.5l.94-2.06 2.06-.94-2.06-.94L8.5 2.5l-.94 2.06-2.06.94zm10 10l.94 2.06.94-2.06 2.06-.94-2.06-.94-.94-2.06-.94 2.06-2.06.94z\"/><path d=\"M17.41 7.96l-1.37-1.37c-.4-.4-.92-.59-1.43-.59-.52 0-1.04.2-1.43.59L10.3 9.45l-7.72 7.72c-.78.78-.78 2.05 0 2.83L4 21.41c.39.39.9.59 1.41.59.51 0 1.02-.2 1.41-.59l7.78-7.78 2.81-2.81c.8-.78.8-2.07 0-2.86zM5.41 20L4 18.59l7.72-7.72 1.47 1.35L5.41 20z\"/>\n",
              "  </svg>\n",
              "      </button>\n",
              "      \n",
              "  <style>\n",
              "    .colab-df-container {\n",
              "      display:flex;\n",
              "      flex-wrap:wrap;\n",
              "      gap: 12px;\n",
              "    }\n",
              "\n",
              "    .colab-df-convert {\n",
              "      background-color: #E8F0FE;\n",
              "      border: none;\n",
              "      border-radius: 50%;\n",
              "      cursor: pointer;\n",
              "      display: none;\n",
              "      fill: #1967D2;\n",
              "      height: 32px;\n",
              "      padding: 0 0 0 0;\n",
              "      width: 32px;\n",
              "    }\n",
              "\n",
              "    .colab-df-convert:hover {\n",
              "      background-color: #E2EBFA;\n",
              "      box-shadow: 0px 1px 2px rgba(60, 64, 67, 0.3), 0px 1px 3px 1px rgba(60, 64, 67, 0.15);\n",
              "      fill: #174EA6;\n",
              "    }\n",
              "\n",
              "    [theme=dark] .colab-df-convert {\n",
              "      background-color: #3B4455;\n",
              "      fill: #D2E3FC;\n",
              "    }\n",
              "\n",
              "    [theme=dark] .colab-df-convert:hover {\n",
              "      background-color: #434B5C;\n",
              "      box-shadow: 0px 1px 3px 1px rgba(0, 0, 0, 0.15);\n",
              "      filter: drop-shadow(0px 1px 2px rgba(0, 0, 0, 0.3));\n",
              "      fill: #FFFFFF;\n",
              "    }\n",
              "  </style>\n",
              "\n",
              "      <script>\n",
              "        const buttonEl =\n",
              "          document.querySelector('#df-dbc91a03-3d35-4ccf-90b8-6761f23caedc button.colab-df-convert');\n",
              "        buttonEl.style.display =\n",
              "          google.colab.kernel.accessAllowed ? 'block' : 'none';\n",
              "\n",
              "        async function convertToInteractive(key) {\n",
              "          const element = document.querySelector('#df-dbc91a03-3d35-4ccf-90b8-6761f23caedc');\n",
              "          const dataTable =\n",
              "            await google.colab.kernel.invokeFunction('convertToInteractive',\n",
              "                                                     [key], {});\n",
              "          if (!dataTable) return;\n",
              "\n",
              "          const docLinkHtml = 'Like what you see? Visit the ' +\n",
              "            '<a target=\"_blank\" href=https://colab.research.google.com/notebooks/data_table.ipynb>data table notebook</a>'\n",
              "            + ' to learn more about interactive tables.';\n",
              "          element.innerHTML = '';\n",
              "          dataTable['output_type'] = 'display_data';\n",
              "          await google.colab.output.renderOutput(dataTable, element);\n",
              "          const docLink = document.createElement('div');\n",
              "          docLink.innerHTML = docLinkHtml;\n",
              "          element.appendChild(docLink);\n",
              "        }\n",
              "      </script>\n",
              "    </div>\n",
              "  </div>\n",
              "  "
            ]
          },
          "metadata": {},
          "execution_count": 49
        }
      ],
      "source": [
        "df_input = pd.DataFrame({col: df[col].astype('category').cat.codes for col in df}, index = df.index)\n",
        "df_input.head()"
      ]
    },
    {
      "cell_type": "code",
      "execution_count": null,
      "metadata": {
        "id": "yVDeLO8ei1Y4",
        "colab": {
          "base_uri": "https://localhost:8080/"
        },
        "outputId": "deb21066-1ab8-4565-cd75-039a46274622"
      },
      "outputs": [
        {
          "output_type": "execute_result",
          "data": {
            "text/plain": [
              "0    205\n",
              "1    186\n",
              "3    172\n",
              "2     98\n",
              "Name: Tablet_Adoption, dtype: int64"
            ]
          },
          "metadata": {},
          "execution_count": 50
        }
      ],
      "source": [
        "# Kita harus tau hasil encoder dari field targer\n",
        "df_input['Tablet_Adoption'].value_counts()"
      ]
    },
    {
      "cell_type": "markdown",
      "metadata": {
        "id": "BXGhdPpWjHpQ"
      },
      "source": [
        "0 -> Early Adopter <br>\n",
        "1 -> Early Majority <br>\n",
        "2 -> Innovator <br>\n",
        "3 -> Late Majority"
      ]
    },
    {
      "cell_type": "markdown",
      "metadata": {
        "id": "b7mjqF-YjTXq"
      },
      "source": [
        "## Pemodelan Data"
      ]
    },
    {
      "cell_type": "code",
      "execution_count": null,
      "metadata": {
        "id": "YO9Ip2E2jGZc"
      },
      "outputs": [],
      "source": [
        "# Import train_test_split function\n",
        "from sklearn.model_selection import train_test_split\n",
        "\n",
        "# Import scikit-learn metrics module for accuracy calculation\n",
        "from sklearn import metrics"
      ]
    },
    {
      "cell_type": "code",
      "execution_count": null,
      "metadata": {
        "id": "J7ERcNYajxRx"
      },
      "outputs": [],
      "source": [
        "# Input Variabel\n",
        "x = df_input[['Gender',\t'Age',\t'Marital_Status',\t'Website_Activity',\t'Browsed_Electronics_12Mo',\t'Bought_Electronics_12Mo',\t'Bought_Digital_Media_18Mo',\t'Bought_Digital_Books',\t'Payment_Method']]\n",
        "\n",
        "# Target Variabel\n",
        "y = df_input['Tablet_Adoption'].astype('category')"
      ]
    },
    {
      "cell_type": "code",
      "execution_count": null,
      "metadata": {
        "id": "jRzTGfy8kRZS"
      },
      "outputs": [],
      "source": [
        "# Spliting Training & Testing, 70% training dan 30% testing\n",
        "x_train, x_test, y_train, y_test = train_test_split(x, y, test_size = 0.3, random_state = 0)"
      ]
    },
    {
      "cell_type": "markdown",
      "metadata": {
        "id": "LgteHJValmxq"
      },
      "source": [
        "## Decision Tree"
      ]
    },
    {
      "cell_type": "code",
      "execution_count": null,
      "metadata": {
        "id": "nBkjt-JllkfR"
      },
      "outputs": [],
      "source": [
        "# Import Decision Tree Classifier\n",
        "from sklearn.tree import DecisionTreeClassifier"
      ]
    },
    {
      "cell_type": "code",
      "execution_count": null,
      "metadata": {
        "id": "-SbYjz-4lxwZ"
      },
      "outputs": [],
      "source": [
        "# Evaluation Model\n",
        "\n",
        "from sklearn.metrics import accuracy_score\n",
        "from sklearn.metrics import classification_report\n",
        "from sklearn.metrics import precision_score, recall_score\n",
        "from sklearn.metrics import confusion_matrix"
      ]
    },
    {
      "cell_type": "code",
      "execution_count": null,
      "metadata": {
        "id": "bdHP-wmhl_-k"
      },
      "outputs": [],
      "source": [
        "# Membuat Object Algoritma Decision Tree Klasifikasi\n",
        "tree = DecisionTreeClassifier(criterion = 'gini', splitter = 'best', max_depth = 6)\n",
        "\n",
        "# Memodelkan data menggunakan algoritma decision tree\n",
        "model_tree = tree.fit(x_train, y_train)\n",
        "\n",
        "# Melakukan predict pada data test\n",
        "pred_tree = model_tree.predict(x_test)"
      ]
    },
    {
      "cell_type": "markdown",
      "metadata": {
        "id": "vYFsKvhOmeiF"
      },
      "source": [
        "### Evaluasi Decision Tree"
      ]
    },
    {
      "cell_type": "code",
      "execution_count": null,
      "metadata": {
        "id": "aKqFIKagmcA7",
        "colab": {
          "base_uri": "https://localhost:8080/"
        },
        "outputId": "095427ec-8f91-4508-fc96-8ff36a28e1cc"
      },
      "outputs": [
        {
          "output_type": "stream",
          "name": "stdout",
          "text": [
            "              precision    recall  f1-score   support\n",
            "\n",
            "           0       0.51      0.64      0.56        66\n",
            "           1       0.69      0.35      0.47        57\n",
            "           2       0.44      0.48      0.46        29\n",
            "           3       0.69      0.81      0.75        47\n",
            "\n",
            "    accuracy                           0.57       199\n",
            "   macro avg       0.58      0.57      0.56       199\n",
            "weighted avg       0.59      0.57      0.56       199\n",
            "\n"
          ]
        }
      ],
      "source": [
        "print(classification_report(y_test, pred_tree))"
      ]
    },
    {
      "cell_type": "code",
      "execution_count": null,
      "metadata": {
        "colab": {
          "base_uri": "https://localhost:8080/",
          "height": 467
        },
        "id": "n-A_DmgamqAs",
        "outputId": "bd854813-f49c-4df2-8f37-da4ec9b8fea5"
      },
      "outputs": [
        {
          "output_type": "execute_result",
          "data": {
            "text/plain": [
              "Text(113.9222222222222, 0.5, 'predicted label')"
            ]
          },
          "metadata": {},
          "execution_count": 58
        },
        {
          "output_type": "display_data",
          "data": {
            "text/plain": [
              "<Figure size 640x480 with 1 Axes>"
            ],
            "image/png": "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\n"
          },
          "metadata": {}
        }
      ],
      "source": [
        "# Visualize the confusion matrix of Decision Tree\n",
        "mat = confusion_matrix (y_test, pred_tree)\n",
        "sns.heatmap(mat.T, square = True, annot = True, fmt = 'd', cbar = False)\n",
        "plt.xlabel('true label')\n",
        "plt.ylabel('predicted label')"
      ]
    },
    {
      "cell_type": "code",
      "execution_count": null,
      "metadata": {
        "id": "REX7pxCZqRuw",
        "colab": {
          "base_uri": "https://localhost:8080/",
          "height": 448
        },
        "outputId": "ccfc1585-a924-4424-d7ef-b237ec9230d5"
      },
      "outputs": [
        {
          "output_type": "execute_result",
          "data": {
            "text/plain": [
              "<Axes: >"
            ]
          },
          "metadata": {},
          "execution_count": 59
        },
        {
          "output_type": "display_data",
          "data": {
            "text/plain": [
              "<Figure size 640x480 with 1 Axes>"
            ],
            "image/png": "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\n"
          },
          "metadata": {}
        }
      ],
      "source": [
        "# Signifikan faktor dari model Decision Tree yang menggambarkan nasabah gagal bayar/tidak\n",
        "\n",
        "feat_importances = pd.Series(model_tree.feature_importances_, index = x.columns)\n",
        "feat_importances.nlargest(10).plot(kind = 'barh')"
      ]
    },
    {
      "cell_type": "markdown",
      "source": [
        "### K-Fold Validation\n",
        "\n",
        "K-Fold Cross Validation adalah salah satu dari jenis pengujian cross validation yang berfungsi untuk menilai kinerja proses sebuah metode algoritme dengan membagi sampel data secara acak dan mengelompokkan data tersebut sebanyak nilai K-Fold."
      ],
      "metadata": {
        "id": "wSb7678SalHR"
      }
    },
    {
      "cell_type": "code",
      "source": [
        "from sklearn.model_selection import cross_validate\n",
        "from sklearn.metrics import recall_score\n",
        "from sklearn.model_selection import cross_val_score"
      ],
      "metadata": {
        "id": "WBEh3zjVcfex"
      },
      "execution_count": null,
      "outputs": []
    },
    {
      "cell_type": "code",
      "source": [
        "scores = cross_val_score(model_tree, x, y, cv = 10, scoring = 'f1_macro')\n",
        "scores"
      ],
      "metadata": {
        "colab": {
          "base_uri": "https://localhost:8080/"
        },
        "id": "bNEqTzJWcuK-",
        "outputId": "84d13ec2-b15d-4e4b-cf19-842281c0bd69"
      },
      "execution_count": null,
      "outputs": [
        {
          "output_type": "execute_result",
          "data": {
            "text/plain": [
              "array([0.63576641, 0.68782051, 0.53085568, 0.60467775, 0.67736729,\n",
              "       0.5323214 , 0.68611857, 0.60203036, 0.31814127, 0.23830011])"
            ]
          },
          "metadata": {},
          "execution_count": 61
        }
      ]
    },
    {
      "cell_type": "code",
      "source": [
        "print(\"%0.2f accuracy with a standard deviation of %0.2f\" % (scores.mean(), scores.std()))"
      ],
      "metadata": {
        "colab": {
          "base_uri": "https://localhost:8080/"
        },
        "id": "t_kCe1u9c4EE",
        "outputId": "28274737-60a8-44e4-c985-7c0fa76489aa"
      },
      "execution_count": null,
      "outputs": [
        {
          "output_type": "stream",
          "name": "stdout",
          "text": [
            "0.55 accuracy with a standard deviation of 0.15\n"
          ]
        }
      ]
    },
    {
      "cell_type": "markdown",
      "source": [
        "## Random Forest"
      ],
      "metadata": {
        "id": "B41UkuKEhjXH"
      }
    },
    {
      "cell_type": "code",
      "source": [
        "from sklearn.ensemble import RandomForestClassifier\n",
        "from sklearn.preprocessing import LabelEncoder\n",
        "from sklearn.preprocessing import StandardScaler"
      ],
      "metadata": {
        "id": "5BToCjOWdWV2"
      },
      "execution_count": null,
      "outputs": []
    },
    {
      "cell_type": "code",
      "source": [
        "# Membuat Object Algoritma Random Forest\n",
        "clf_rf = RandomForestClassifier(n_estimators=200, max_depth=6)\n",
        "\n",
        "# Memodelkan data menggunakan algoritma random forest\n",
        "model_rf = clf_rf.fit(x_train, y_train)\n",
        "\n",
        "# Melakukan predict pada data test\n",
        "pred_rf = model_rf.predict(x_test)"
      ],
      "metadata": {
        "id": "wg42e-hWhqTZ"
      },
      "execution_count": null,
      "outputs": []
    },
    {
      "cell_type": "markdown",
      "source": [
        "### Evaluasi Random Forest"
      ],
      "metadata": {
        "id": "qHQuNTjQihP_"
      }
    },
    {
      "cell_type": "code",
      "source": [
        "print(classification_report(y_test, pred_rf))"
      ],
      "metadata": {
        "colab": {
          "base_uri": "https://localhost:8080/"
        },
        "id": "5OGnHBdFhsLx",
        "outputId": "70d79575-9cea-4000-f2ba-387a65aa3e31"
      },
      "execution_count": null,
      "outputs": [
        {
          "output_type": "stream",
          "name": "stdout",
          "text": [
            "              precision    recall  f1-score   support\n",
            "\n",
            "           0       0.59      0.67      0.63        66\n",
            "           1       0.75      0.42      0.54        57\n",
            "           2       0.46      0.66      0.54        29\n",
            "           3       0.71      0.79      0.75        47\n",
            "\n",
            "    accuracy                           0.62       199\n",
            "   macro avg       0.63      0.63      0.61       199\n",
            "weighted avg       0.65      0.62      0.62       199\n",
            "\n"
          ]
        }
      ]
    },
    {
      "cell_type": "code",
      "source": [
        "# Visualize the confusion matrix of Random Forest\n",
        "mat = confusion_matrix(y_test, pred_rf)\n",
        "sns.heatmap(mat.T, square = True, annot = True, fmt = 'd', cbar = False)\n",
        "plt.xlabel('true label')\n",
        "plt.ylabel('predicted label')"
      ],
      "metadata": {
        "colab": {
          "base_uri": "https://localhost:8080/",
          "height": 467
        },
        "id": "sF3wzz8Mhvz9",
        "outputId": "61294c45-487f-49dc-8806-29bf608b7e30"
      },
      "execution_count": null,
      "outputs": [
        {
          "output_type": "execute_result",
          "data": {
            "text/plain": [
              "Text(113.9222222222222, 0.5, 'predicted label')"
            ]
          },
          "metadata": {},
          "execution_count": 66
        },
        {
          "output_type": "display_data",
          "data": {
            "text/plain": [
              "<Figure size 640x480 with 1 Axes>"
            ],
            "image/png": "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\n"
          },
          "metadata": {}
        }
      ]
    },
    {
      "cell_type": "markdown",
      "source": [
        "### K-Fold Validation"
      ],
      "metadata": {
        "id": "TeAhdvryiPCN"
      }
    },
    {
      "cell_type": "code",
      "source": [
        "from sklearn.model_selection import cross_validate\n",
        "from sklearn.metrics import recall_score\n",
        "from sklearn.model_selection import cross_val_score"
      ],
      "metadata": {
        "id": "fqd0iRMviUwc"
      },
      "execution_count": null,
      "outputs": []
    },
    {
      "cell_type": "code",
      "source": [
        "scores = cross_val_score(model_tree, x, y, cv = 10, scoring = 'f1_macro')\n",
        "scores"
      ],
      "metadata": {
        "colab": {
          "base_uri": "https://localhost:8080/"
        },
        "id": "fxaYIPLViX_k",
        "outputId": "e9dbff75-5384-4157-f354-52d8cd669ff6"
      },
      "execution_count": null,
      "outputs": [
        {
          "output_type": "execute_result",
          "data": {
            "text/plain": [
              "array([0.63576641, 0.68782051, 0.54105976, 0.60467775, 0.68163558,\n",
              "       0.5323214 , 0.68611857, 0.60203036, 0.31814127, 0.23830011])"
            ]
          },
          "metadata": {},
          "execution_count": 68
        }
      ]
    },
    {
      "cell_type": "code",
      "source": [
        "print(\"%0.2f accuracy with a standard deviation of %0.2f\" % (scores.mean(), scores.std()))"
      ],
      "metadata": {
        "colab": {
          "base_uri": "https://localhost:8080/"
        },
        "id": "FGVcvMEEicCM",
        "outputId": "bdda37e6-8d0a-457c-ce94-fce661de58ec"
      },
      "execution_count": null,
      "outputs": [
        {
          "output_type": "stream",
          "name": "stdout",
          "text": [
            "0.55 accuracy with a standard deviation of 0.15\n"
          ]
        }
      ]
    },
    {
      "cell_type": "markdown",
      "source": [
        "## XG Boost"
      ],
      "metadata": {
        "id": "ZG7LFK-gh4-6"
      }
    },
    {
      "cell_type": "code",
      "source": [
        "from xgboost import XGBClassifier"
      ],
      "metadata": {
        "id": "_2QasNGOh3A5"
      },
      "execution_count": null,
      "outputs": []
    },
    {
      "cell_type": "code",
      "source": [
        "# Membuat Object Algoritma XGBOOST Classifier\n",
        "clf_xg = XGBClassifier()\n",
        "\n",
        "# Memodelkan data menggunakan algoritma XGBOOST Classifier\n",
        "model_xg = clf_xg.fit(x_train, y_train)\n",
        "\n",
        "# Melakukan predict pada data test\n",
        "pred_xg = model_xg.predict(x_test)"
      ],
      "metadata": {
        "id": "QRHF_vtpiAb0"
      },
      "execution_count": null,
      "outputs": []
    },
    {
      "cell_type": "markdown",
      "source": [
        "### Evaluasi XG Boost"
      ],
      "metadata": {
        "id": "rIiCagj5insG"
      }
    },
    {
      "cell_type": "code",
      "source": [
        "print(classification_report(y_test, pred_xg))"
      ],
      "metadata": {
        "colab": {
          "base_uri": "https://localhost:8080/"
        },
        "id": "Kbcl0gcMiB99",
        "outputId": "8262d932-83ec-4ef2-f761-be0a9e5c5c98"
      },
      "execution_count": null,
      "outputs": [
        {
          "output_type": "stream",
          "name": "stdout",
          "text": [
            "              precision    recall  f1-score   support\n",
            "\n",
            "           0       0.54      0.44      0.48        66\n",
            "           1       0.58      0.58      0.58        57\n",
            "           2       0.43      0.55      0.48        29\n",
            "           3       0.59      0.64      0.61        47\n",
            "\n",
            "    accuracy                           0.54       199\n",
            "   macro avg       0.53      0.55      0.54       199\n",
            "weighted avg       0.55      0.54      0.54       199\n",
            "\n"
          ]
        }
      ]
    },
    {
      "cell_type": "code",
      "source": [
        "# Visualize the confusion matrix of XGBOOST Classifier\n",
        "mat = confusion_matrix(y_test, pred_xg)\n",
        "sns.heatmap(mat.T, square = True, annot = True, fmt = 'd', cbar = False)\n",
        "plt.xlabel('true label')\n",
        "plt.ylabel('predicted label')"
      ],
      "metadata": {
        "colab": {
          "base_uri": "https://localhost:8080/",
          "height": 467
        },
        "id": "Y28NGAVsiD6V",
        "outputId": "b6c722b6-d278-49de-aea4-6429adfff144"
      },
      "execution_count": null,
      "outputs": [
        {
          "output_type": "execute_result",
          "data": {
            "text/plain": [
              "Text(113.9222222222222, 0.5, 'predicted label')"
            ]
          },
          "metadata": {},
          "execution_count": 73
        },
        {
          "output_type": "display_data",
          "data": {
            "text/plain": [
              "<Figure size 640x480 with 1 Axes>"
            ],
            "image/png": "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\n"
          },
          "metadata": {}
        }
      ]
    },
    {
      "cell_type": "markdown",
      "source": [
        "### K-Fold Validation"
      ],
      "metadata": {
        "id": "U9UXDtwCiq1p"
      }
    },
    {
      "cell_type": "code",
      "source": [
        "from sklearn.model_selection import cross_validate\n",
        "from sklearn.metrics import recall_score\n",
        "from sklearn.model_selection import cross_val_score"
      ],
      "metadata": {
        "id": "WySEIEdhiGyA"
      },
      "execution_count": null,
      "outputs": []
    },
    {
      "cell_type": "code",
      "source": [
        "scores = cross_val_score(model_tree, x, y, cv = 10, scoring = 'f1_macro')\n",
        "scores"
      ],
      "metadata": {
        "colab": {
          "base_uri": "https://localhost:8080/"
        },
        "id": "C63nEnDSixHl",
        "outputId": "6f1e77ae-9737-4fbc-b646-a08c60fa02d9"
      },
      "execution_count": null,
      "outputs": [
        {
          "output_type": "execute_result",
          "data": {
            "text/plain": [
              "array([0.64897575, 0.68782051, 0.54105976, 0.60467775, 0.66891815,\n",
              "       0.5323214 , 0.68611857, 0.60203036, 0.31814127, 0.23830011])"
            ]
          },
          "metadata": {},
          "execution_count": 75
        }
      ]
    },
    {
      "cell_type": "code",
      "source": [
        "print(\"%0.2f accuracy with a standard deviation of %0.2f\" % (scores.mean(), scores.std()))"
      ],
      "metadata": {
        "colab": {
          "base_uri": "https://localhost:8080/"
        },
        "id": "_RbDQ91Qi0es",
        "outputId": "82dce24e-f0ee-4fa0-f2bc-9c0f0f1173b0"
      },
      "execution_count": null,
      "outputs": [
        {
          "output_type": "stream",
          "name": "stdout",
          "text": [
            "0.55 accuracy with a standard deviation of 0.15\n"
          ]
        }
      ]
    },
    {
      "cell_type": "code",
      "source": [],
      "metadata": {
        "id": "xVHqAw76i3po"
      },
      "execution_count": null,
      "outputs": []
    }
  ],
  "metadata": {
    "colab": {
      "provenance": [],
      "toc_visible": true
    },
    "kernelspec": {
      "display_name": "Python 3",
      "name": "python3"
    },
    "language_info": {
      "name": "python"
    }
  },
  "nbformat": 4,
  "nbformat_minor": 0
}
